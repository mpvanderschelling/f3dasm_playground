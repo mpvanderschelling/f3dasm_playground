{
 "cells": [
  {
   "cell_type": "code",
   "execution_count": 1,
   "metadata": {},
   "outputs": [
    {
     "name": "stderr",
     "output_type": "stream",
     "text": [
      "2022-12-21 16:43:19.543408: I tensorflow/core/platform/cpu_feature_guard.cc:193] This TensorFlow binary is optimized with oneAPI Deep Neural Network Library (oneDNN) to use the following CPU instructions in performance-critical operations:  AVX2 AVX512F AVX512_VNNI FMA\n",
      "To enable them in other operations, rebuild TensorFlow with the appropriate compiler flags.\n",
      "2022-12-21 16:43:19.710181: I tensorflow/core/util/port.cc:104] oneDNN custom operations are on. You may see slightly different numerical results due to floating-point round-off errors from different computation orders. To turn them off, set the environment variable `TF_ENABLE_ONEDNN_OPTS=0`.\n",
      "2022-12-21 16:43:20.418131: W tensorflow/compiler/xla/stream_executor/platform/default/dso_loader.cc:64] Could not load dynamic library 'libnvinfer.so.7'; dlerror: libnvinfer.so.7: cannot open shared object file: No such file or directory; LD_LIBRARY_PATH: /usr/local/cuda-11.1/lib64:/usr/local/cuda-11.1/lib64\n",
      "2022-12-21 16:43:20.418189: W tensorflow/compiler/xla/stream_executor/platform/default/dso_loader.cc:64] Could not load dynamic library 'libnvinfer_plugin.so.7'; dlerror: libnvinfer_plugin.so.7: cannot open shared object file: No such file or directory; LD_LIBRARY_PATH: /usr/local/cuda-11.1/lib64:/usr/local/cuda-11.1/lib64\n",
      "2022-12-21 16:43:20.418194: W tensorflow/compiler/tf2tensorrt/utils/py_utils.cc:38] TF-TRT Warning: Cannot dlopen some TensorRT libraries. If you would like to use Nvidia GPU with TensorRT, please make sure the missing libraries mentioned above are installed properly.\n"
     ]
    }
   ],
   "source": [
    "from mlclasses_f3dasm import LinearRegression, MLArchitecture, get_reshaped_array_from_list_of_arrays, get_flat_array_from_list_of_arrays\n",
    "import tensorflow as tf\n",
    "import f3dasm\n",
    "import numpy as np\n",
    "from typing import List, Tuple\n",
    "from copy import copy\n",
    "import pandas as pd\n",
    "from sklearn.model_selection import train_test_split\n",
    "\n",
    "import matplotlib.pyplot as plt"
   ]
  },
  {
   "cell_type": "code",
   "execution_count": 2,
   "metadata": {},
   "outputs": [],
   "source": [
    "class Function: # Dit moet eigenlijk een soort Function worden, maar dan met een ML architectuur en Data ...\n",
    "    def __init__(self, model: MLArchitecture, data: f3dasm.Data):\n",
    "        self.model = model\n",
    "        self.data = data\n",
    "        \n",
    "    def evaluate(self, x: np.ndarray) -> Tuple[np.ndarray, np.ndarray]: # Two 2D arrays: loss (1,1), grad (dim, 1)\n",
    "\n",
    "        self.model.set_model_weights(x)\n",
    "\n",
    "        with tf.GradientTape() as tape:\n",
    "            loss = self.model.loss(self.model(self.data.get_input_data().to_numpy()), self.data.get_output_data().to_numpy())\n",
    "        grads = tape.gradient(loss, self.model.trainable_variables)\n",
    "        return np.atleast_2d(loss.numpy()), get_flat_array_from_list_of_arrays(grads)\n",
    "\n",
    "    def f(self, x: np.ndarray):\n",
    "        loss, _ = self.evaluate(x)\n",
    "        return loss\n",
    "\n",
    "    def dfdx(self, x: np.ndarray):\n",
    "        _, grads = self.evaluate(x)\n",
    "        return grads\n"
   ]
  },
  {
   "cell_type": "code",
   "execution_count": 3,
   "metadata": {},
   "outputs": [],
   "source": [
    "class SGD:\n",
    "    def __init__(self, data: f3dasm.Data, lr: float = 0.03):\n",
    "        self.data = data\n",
    "        self.lr = lr\n",
    "\n",
    "    def update_step(self, function: Function) -> np.ndarray:\n",
    "\n",
    "        x = np.atleast_2d(self.data.get_input_data().iloc[-1].to_numpy()).T\n",
    "        g = function.dfdx(function.model.get_model_weights())\n",
    "\n",
    "        x_update = x - (self.lr * g)\n",
    "        y_update = function.f(x_update)\n",
    "        return x_update, y_update\n",
    "\n",
    "    def iterate(self, iterations: int, function: Function):\n",
    "        for _ in range(iterations):\n",
    "            \n",
    "            # Optimization update\n",
    "            x_update, y_update = self.update_step(function=function)\n",
    "            \n",
    "             # Evaluate new parameters\n",
    "            # loss_update = function.f(x_update)\n",
    "\n",
    "            # Add to model dataframe\n",
    "            self.data.add_numpy_arrays(input=x_update.T, output=y_update)\n",
    "\n",
    "    def extract_data(self) -> f3dasm.Data:\n",
    "        return copy(self.data)\n",
    "        \n",
    "\n",
    "        "
   ]
  },
  {
   "cell_type": "code",
   "execution_count": 4,
   "metadata": {},
   "outputs": [],
   "source": [
    "def create_regression_data(n: int, b: float, w: List[float], noise_multiplier: float = 0.01) -> f3dasm.Data:\n",
    "    w = tf.constant(w, dtype=float)\n",
    "    dim = len(w)\n",
    "    num_train = n // 2\n",
    "    num_val = n - num_train\n",
    "\n",
    "    noise = tf.random.normal((n, 1)) * noise_multiplier\n",
    "\n",
    "    X = tf.random.normal((n, w.shape[0])) # (num, dim)\n",
    "    y = tf.matmul(X, tf.reshape(w, (-1, 1))) + b + noise # (1, dim)\n",
    "\n",
    "    # Create designspace\n",
    "    design = f3dasm.make_nd_continuous_design(bounds=np.tile([-np.inf,np.inf], (dim, 1)), dimensionality=dim)\n",
    "\n",
    "    # Create Data object\n",
    "    regression_data = f3dasm.Data(design)\n",
    "\n",
    "    regression_data.add_numpy_arrays(input=X.numpy(), output=y.numpy())\n",
    "    return regression_data"
   ]
  },
  {
   "cell_type": "code",
   "execution_count": 5,
   "metadata": {},
   "outputs": [],
   "source": [
    "seed = 42"
   ]
  },
  {
   "cell_type": "code",
   "execution_count": 6,
   "metadata": {},
   "outputs": [
    {
     "name": "stderr",
     "output_type": "stream",
     "text": [
      "2022-12-21 16:43:30.004710: E tensorflow/compiler/xla/stream_executor/cuda/cuda_driver.cc:267] failed call to cuInit: CUDA_ERROR_NO_DEVICE: no CUDA-capable device is detected\n",
      "2022-12-21 16:43:30.004811: I tensorflow/compiler/xla/stream_executor/cuda/cuda_diagnostics.cc:156] kernel driver does not appear to be running on this host (martin): /proc/driver/nvidia/version does not exist\n",
      "2022-12-21 16:43:30.007178: I tensorflow/core/platform/cpu_feature_guard.cc:193] This TensorFlow binary is optimized with oneAPI Deep Neural Network Library (oneDNN) to use the following CPU instructions in performance-critical operations:  AVX2 AVX512F AVX512_VNNI FMA\n",
      "To enable them in other operations, rebuild TensorFlow with the appropriate compiler flags.\n"
     ]
    }
   ],
   "source": [
    "# Create data\n",
    "dim = 3\n",
    "random_weights = list(np.random.random(size=dim))\n",
    "n = 2000\n",
    "b = random_weights[0]\n",
    "w = random_weights[1:] # [2, -3.4, 5., 6.7, -3.4, 6]\n",
    "reg_data = create_regression_data(n=n, b=b, w=w, noise_multiplier=1)\n",
    "reg_data.data\n",
    "\n",
    "# Create model parameter data\n",
    "design = f3dasm.make_nd_continuous_design(bounds=np.tile([-10.,10.], (dim, 1)), dimensionality=dim) #these bounds are a guess!!\n",
    "\n",
    "# Create sampler\n",
    "sampler = f3dasm.sampling.LatinHypercube(design=design,seed=seed)\n",
    "\n",
    "# Create model parameters\n",
    "model_parameters = sampler.get_samples(numsamples=1)"
   ]
  },
  {
   "cell_type": "code",
   "execution_count": 7,
   "metadata": {},
   "outputs": [],
   "source": [
    "# Create regression model\n",
    "model = LinearRegression(dimensionality=len(w))\n",
    "\n",
    "# Create Function by combining regression data and a model\n",
    "trainer = Function(model=model, data=reg_data)\n",
    "\n",
    "# Evaluate the sample\n",
    "model_parameters.add_output(output=trainer.f(model_parameters.get_input_data().to_numpy().ravel()))"
   ]
  },
  {
   "cell_type": "code",
   "execution_count": 8,
   "metadata": {},
   "outputs": [],
   "source": [
    "iterations = 100\n",
    "\n",
    "\n",
    "function = Function(model=model, data=reg_data)\n",
    "optimizer = SGD(data=model_parameters)\n",
    "\n",
    "optimizer.iterate(iterations, function)\n",
    "\n",
    "dd = optimizer.extract_data()\n",
    "\n",
    "# for _ in range(iterations):\n",
    "\n",
    "#     #Calculate gradient\n",
    "#     with tf.GradientTape() as tape:\n",
    "#         loss = model.loss(model(reg_data.data['input'].to_numpy()), reg_data.data['output'].to_numpy())\n",
    "\n",
    "#     grads = tape.gradient(loss, model.trainable_variables)\n",
    "\n",
    "#     # Optimization update\n",
    "#     w_hat = model.get_model_weights()\n",
    "#     x_update = w_hat - (0.03 * get_flat_array_from_list_of_arrays(grads))\n",
    "\n",
    "#     # Evaluate new parameters\n",
    "#     model.set_model_weights(x_update)\n",
    "#     loss_update = model.loss(model(reg_data.get_input_data().to_numpy()), reg_data.get_output_data().to_numpy())\n",
    "\n",
    "#     # Add to model dataframe\n",
    "#     model_parameters.add_numpy_arrays(input=x_update.T, output=np.atleast_2d(loss_update.numpy()))"
   ]
  },
  {
   "cell_type": "code",
   "execution_count": 9,
   "metadata": {},
   "outputs": [],
   "source": [
    "# trainer.model.get_model_weights()"
   ]
  },
  {
   "cell_type": "code",
   "execution_count": 10,
   "metadata": {},
   "outputs": [
    {
     "data": {
      "text/plain": [
       "<f3dasm.base.data.Data at 0x7f8384a08970>"
      ]
     },
     "execution_count": 10,
     "metadata": {},
     "output_type": "execute_result"
    }
   ],
   "source": [
    "dd"
   ]
  },
  {
   "cell_type": "code",
   "execution_count": 11,
   "metadata": {},
   "outputs": [
    {
     "data": {
      "text/plain": [
       "[<matplotlib.lines.Line2D at 0x7f838473ec10>]"
      ]
     },
     "execution_count": 11,
     "metadata": {},
     "output_type": "execute_result"
    },
    {
     "data": {
      "image/png": "[encoded data removed]",
      "text/plain": [
       "<Figure size 640x480 with 1 Axes>"
      ]
     },
     "metadata": {},
     "output_type": "display_data"
    }
   ],
   "source": [
    "plt.plot(dd.get_output_data())"
   ]
  },
  {
   "cell_type": "code",
   "execution_count": 12,
   "metadata": {},
   "outputs": [],
   "source": [
    "y, grad = function.evaluate(np.array([0.,0.,0.]))"
   ]
  },
  {
   "cell_type": "code",
   "execution_count": 13,
   "metadata": {},
   "outputs": [
    {
     "data": {
      "text/plain": [
       "array([[1.7185769]], dtype=float32)"
      ]
     },
     "execution_count": 13,
     "metadata": {},
     "output_type": "execute_result"
    }
   ],
   "source": [
    "y"
   ]
  },
  {
   "cell_type": "code",
   "execution_count": 14,
   "metadata": {},
   "outputs": [
    {
     "data": {
      "text/plain": [
       "array([[-0.8968157],\n",
       "       [-0.5788273],\n",
       "       [-1.211842 ]], dtype=float32)"
      ]
     },
     "execution_count": 14,
     "metadata": {},
     "output_type": "execute_result"
    }
   ],
   "source": [
    "grad"
   ]
  },
  {
   "cell_type": "code",
   "execution_count": null,
   "metadata": {},
   "outputs": [],
   "source": []
  }
 ],
 "metadata": {
  "kernelspec": {
   "display_name": "Python 3.8.15 ('f3dasm_env3')",
   "language": "python",
   "name": "python3"
  },
  "language_info": {
   "codemirror_mode": {
    "name": "ipython",
    "version": 3
   },
   "file_extension": ".py",
   "mimetype": "text/x-python",
   "name": "python",
   "nbconvert_exporter": "python",
   "pygments_lexer": "ipython3",
   "version": "3.8.15"
  },
  "orig_nbformat": 4,
  "vscode": {
   "interpreter": {
    "hash": "03276761335d5ee93b82dc97db1addd68180a543fb0cacb8af76ec058b1972b7"
   }
  }
 },
 "nbformat": 4,
 "nbformat_minor": 2
}
